{
 "cells": [
  {
   "cell_type": "code",
   "execution_count": null,
   "id": "aaf70074-ad32-440b-9252-01cf0bdc59da",
   "metadata": {},
   "outputs": [],
   "source": [
    "'''Q1. What is Abstraction in OOps? Explain with an example.'''\n",
    "\n",
    "In Python, an abstraction is used to hide the irrelevant data/class in order to reduce the complexity.\n",
    "It also enhances the application efficiency.\n",
    "\n",
    "In Python, abstraction can be achieved by using abstract classes and interfaces."
   ]
  },
  {
   "cell_type": "code",
   "execution_count": 1,
   "id": "9cec86a8-2d15-4745-8df9-c91379f0b261",
   "metadata": {},
   "outputs": [
    {
     "name": "stdout",
     "output_type": "stream",
     "text": [
      "The mileage is 30kmph\n",
      "The mileage is 27kmph \n",
      "The mileage is 25kmph \n",
      "The mileage is 24kmph \n"
     ]
    }
   ],
   "source": [
    "from abc import ABC, abstractmethod   \n",
    "class Car(ABC):   \n",
    "    def mileage(self):   \n",
    "        pass  \n",
    "  \n",
    "class Tesla(Car):   \n",
    "    def mileage(self):   \n",
    "        print(\"The mileage is 30kmph\")   \n",
    "class Suzuki(Car):   \n",
    "    def mileage(self):   \n",
    "        print(\"The mileage is 25kmph \")   \n",
    "class Duster(Car):   \n",
    "     def mileage(self):   \n",
    "          print(\"The mileage is 24kmph \")   \n",
    "  \n",
    "class Renault(Car):   \n",
    "    def mileage(self):   \n",
    "            print(\"The mileage is 27kmph \")   \n",
    "            \n",
    "t= Tesla ()   \n",
    "t.mileage()   \n",
    "  \n",
    "r = Renault()   \n",
    "r.mileage()   \n",
    "  \n",
    "s = Suzuki()   \n",
    "s.mileage()   \n",
    "d = Duster()   \n",
    "d.mileage()  "
   ]
  },
  {
   "cell_type": "code",
   "execution_count": null,
   "id": "ee64c602-24b2-411a-8f64-316b5363c1c3",
   "metadata": {},
   "outputs": [],
   "source": [
    "'''Q2. Differentiate between Abstraction and Encapsulation. Explain with an example.'''\n",
    "\n",
    "Abstraction is a concept that focuses on simplifying complex systems by modeling classes based on their essential features while hiding unnecessary details.\n",
    "It helps in managing complexity and providing a high-level view of objects.\n",
    "\n",
    "Encapsulation is the concept of bundling the data attributes and the methods that operate on that data into a single unit called a class. \n",
    "It helps in data hiding and protecting the internal state of an object from external access and manipulation."
   ]
  },
  {
   "cell_type": "code",
   "execution_count": 10,
   "id": "53643b60-42e3-42a5-b5a2-67dcee809c11",
   "metadata": {},
   "outputs": [
    {
     "name": "stdout",
     "output_type": "stream",
     "text": [
      "Triangle has 3 sides\n",
      "Square has 4 sides\n",
      "Pentagon has 5 sides\n",
      "Hexagon has 6 sides\n"
     ]
    }
   ],
   "source": [
    "#Example of Abstraction\n",
    "\n",
    "from abc import ABC\n",
    "\n",
    "class Polygon(ABC):\n",
    "   \n",
    "    def sides(self):\n",
    "        pass\n",
    "\n",
    "class Triangle(Polygon):\n",
    "    def sides(self):\n",
    "        print(\"Triangle has 3 sides\")\n",
    "\n",
    "class Pentagon(Polygon):\n",
    "    def sides(self):\n",
    "        print(\"Pentagon has 5 sides\")\n",
    "\n",
    "class Hexagon(Polygon):\n",
    "    def sides(self):\n",
    "        print(\"Hexagon has 6 sides\")\n",
    "\n",
    "class Square(Polygon):\n",
    "    def sides(self):\n",
    "        print(\"Square has 4 sides\")\n",
    "\n",
    "t = Triangle()\n",
    "t.sides()\n",
    "\n",
    "s = Square()\n",
    "s.sides()\n",
    "\n",
    "p = Pentagon()\n",
    "p.sides()\n",
    "\n",
    "k = Hexagon()\n",
    "k.sides()\n"
   ]
  },
  {
   "cell_type": "code",
   "execution_count": 11,
   "id": "7b64698c-2814-499e-a2db-d481bd6d3e7b",
   "metadata": {},
   "outputs": [],
   "source": [
    "class Person:\n",
    "    def __init__(self, name, age, address):\n",
    "        self.__name = name      \n",
    "        self.__age = age        \n",
    "        self.__address = address  \n",
    "\n",
    "    def get_name(self):\n",
    "        return self.__name\n",
    "\n",
    "    def get_age(self):\n",
    "        return self.__age\n",
    "\n",
    "    def get_address(self):\n",
    "        return self.__address\n",
    "\n",
    "    def set_name(self, name):\n",
    "        self.__name = name\n",
    "\n",
    "    def set_age(self, age):\n",
    "        if 0 <= age <= 120:\n",
    "            self.__age = age\n",
    "\n",
    "    def set_address(self, address):\n",
    "        self.__address = address\n"
   ]
  },
  {
   "cell_type": "code",
   "execution_count": null,
   "id": "85f48c60-1f8b-4422-b4d7-3c164540e07a",
   "metadata": {},
   "outputs": [],
   "source": [
    "'''Q3. What is abc module in python? Why is it used?'''\n",
    "\n",
    "The abc module in Python stands for \"Abstract Base Classes.\" It is used to support abstract classes and abstract methods. \n",
    "Abstract classes and methods are a way to define a blueprint for a class without providing a complete implementation"
   ]
  },
  {
   "cell_type": "code",
   "execution_count": null,
   "id": "c801eab5-1065-4fd1-8b54-05c44f40086b",
   "metadata": {},
   "outputs": [],
   "source": [
    "'''Q4. How can we achieve data abstraction?'''\n",
    "\n",
    "Data abstraction in programming refers to the concept of hiding the complex implementation details of data structures \n",
    "or objects and exposing only the essential features and functionality to users\n",
    "\n",
    "we can achieve data abstraction through various techniques\n",
    "Classes and Objects\n",
    "Access Control\n",
    "Property and Getter Methods\n",
    "Abstract Base Classes "
   ]
  },
  {
   "cell_type": "code",
   "execution_count": null,
   "id": "d7a36a14-3f16-4ad0-8157-02aeeb2497ad",
   "metadata": {},
   "outputs": [],
   "source": [
    "'''Q5. Can we create an instance of an abstract class? Explain your answer.'''\n",
    "\n",
    "No, you cannot create an instance of an abstract class in Python. Attempting to create an instance of an abstract class will result in a TypeError.\n",
    "\n",
    "An abstract class is meant to be a blueprint for other classes to inherit from.\n",
    "It defines a set of methods that must be implemented by its subclasses, but it doesn't provide a complete implementation for those methods.\n",
    "it's an incomplete class designed to be extended by other classes."
   ]
  },
  {
   "cell_type": "code",
   "execution_count": null,
   "id": "d92ee15f-0b20-4b90-85a3-42d4af4b24b0",
   "metadata": {},
   "outputs": [],
   "source": []
  },
  {
   "cell_type": "code",
   "execution_count": null,
   "id": "b58d47ed-e2d3-40b5-9eb4-fa34c8c1f632",
   "metadata": {},
   "outputs": [],
   "source": []
  },
  {
   "cell_type": "code",
   "execution_count": null,
   "id": "b189de66-1535-4873-abf8-e9eb155c65b2",
   "metadata": {},
   "outputs": [],
   "source": []
  },
  {
   "cell_type": "code",
   "execution_count": null,
   "id": "32743c9e-e363-4ebc-bbf0-6ecff5f8bb03",
   "metadata": {},
   "outputs": [],
   "source": []
  },
  {
   "cell_type": "code",
   "execution_count": null,
   "id": "5497f4be-968c-4da0-8682-c532c16b3a74",
   "metadata": {},
   "outputs": [],
   "source": []
  },
  {
   "cell_type": "code",
   "execution_count": null,
   "id": "015160c1-9bd5-410c-b30f-1191495afc7c",
   "metadata": {},
   "outputs": [],
   "source": []
  },
  {
   "cell_type": "code",
   "execution_count": null,
   "id": "6a6cd485-5b7e-491c-82d1-33f7e74d8d5e",
   "metadata": {},
   "outputs": [],
   "source": []
  }
 ],
 "metadata": {
  "kernelspec": {
   "display_name": "Python 3 (ipykernel)",
   "language": "python",
   "name": "python3"
  },
  "language_info": {
   "codemirror_mode": {
    "name": "ipython",
    "version": 3
   },
   "file_extension": ".py",
   "mimetype": "text/x-python",
   "name": "python",
   "nbconvert_exporter": "python",
   "pygments_lexer": "ipython3",
   "version": "3.10.8"
  }
 },
 "nbformat": 4,
 "nbformat_minor": 5
}
